{
 "cells": [
  {
   "cell_type": "code",
   "execution_count": null,
   "id": "e361ba8c-7b2e-40f3-a20e-b0c5a8e9ce45",
   "metadata": {},
   "outputs": [],
   "source": [
    "import numpy\n",
    "import nibabel as nib\n",
    "import os\n",
    "import matplotlib.pyplot as plt\n",
    "# Importing our own functions\n",
    "from tissue2mrprop.functions.volume import volume\n",
    "from tissue2mrprop.functions.label import SegmentationLabel"
   ]
  },
  {
   "cell_type": "markdown",
   "id": "bceda713-c0c6-4103-8a02-57e922059f78",
   "metadata": {},
   "source": [
    "# Example running the code\n",
    "In this notebook will guide on how to use a segmentation file and obtain MR property volumes from it"
   ]
  },
  {
   "cell_type": "code",
   "execution_count": 10,
   "id": "9df448aa-df9c-40fb-bf49-b60f462745ab",
   "metadata": {},
   "outputs": [
    {
     "data": {
      "text/plain": [
       "(512, 512, 828)"
      ]
     },
     "execution_count": 10,
     "metadata": {},
     "output_type": "execute_result"
    }
   ],
   "source": [
    "# Inside the example folder we have already segmented files from CT\n",
    "# dataset by Gatidis et al. https://doi.org/10.1038/s41597-022-01718-3\n",
    "# Attribution to the data set link : https://creativecommons.org/licenses/by/4.0/\n",
    "ct_wb_seg = nib.load(\"example/example_seg.nii.gz\") # wb stands for whole body\n",
    "# We can acquire the numpy data from the nifti\n",
    "labels = ct_wb_seg.get_fdata()\n",
    "# And we can quickly see the shape of our data\n",
    "labels.shape"
   ]
  },
  {
   "cell_type": "markdown",
   "id": "b9611a5d-7acb-402d-af35-b424dc53f484",
   "metadata": {},
   "source": [
    "# MR Property Phantom Creation"
   ]
  },
  {
   "cell_type": "code",
   "execution_count": 11,
   "id": "d818cd06-5962-4633-b5fc-7048e055d554",
   "metadata": {},
   "outputs": [],
   "source": [
    "# Here we call the Volume function\n",
    "# This volume function works for whole body - Total Seg CT\n",
    "new_vol = volume(ct_wb_seg)"
   ]
  },
  {
   "cell_type": "code",
   "execution_count": 9,
   "id": "62ef0c98-bb5c-443a-9eef-02aa0cd54b0e",
   "metadata": {},
   "outputs": [
    {
     "name": "stdout",
     "output_type": "stream",
     "text": [
      "Label ID 256 not found.\n",
      "Label ID 256 not found.\n",
      "Label ID 289 not found.\n",
      "Label ID 289 not found.\n"
     ]
    }
   ],
   "source": [
    "# Given that we know that all the labels from Total Seg should be the same\n",
    "# We can set all the labels automatically with a specific method\n",
    "new_vol.create_segmentation_labels(\"TotalSegmentator\",\"v2\")"
   ]
  },
  {
   "cell_type": "code",
   "execution_count": 12,
   "id": "1038251d-9606-428f-8850-6d77341a53ee",
   "metadata": {},
   "outputs": [
    {
     "name": "stdout",
     "output_type": "stream",
     "text": [
      "SegmentationLabelManager == Volume\n"
     ]
    }
   ],
   "source": []
  },
  {
   "cell_type": "code",
   "execution_count": 5,
   "id": "5366559c-2bfd-4996-a278-49a0e9ab5b73",
   "metadata": {},
   "outputs": [],
   "source": [
    "dicc = new_vol.group_seg_labels(\"TotalSeg_CT\",\"mod0\")"
   ]
  },
  {
   "cell_type": "code",
   "execution_count": 6,
   "id": "ad4e64dd-d5ea-401f-a47d-a30f6cce2ed8",
   "metadata": {},
   "outputs": [
    {
     "data": {
      "text/plain": [
       "{0: <functions.label.SegmentationLabel at 0x28c21d005e0>,\n",
       " 1: <functions.label.SegmentationLabel at 0x28c21d00e80>,\n",
       " 2: <functions.label.SegmentationLabel at 0x28c21d01390>,\n",
       " 3: <functions.label.SegmentationLabel at 0x28c21d018a0>,\n",
       " 4: <functions.label.SegmentationLabel at 0x28c21d01db0>,\n",
       " 5: <functions.label.SegmentationLabel at 0x28c21d022c0>,\n",
       " 6: <functions.label.SegmentationLabel at 0x28c21d03d60>,\n",
       " 7: <functions.label.SegmentationLabel at 0x28c21d03850>,\n",
       " 8: <functions.label.SegmentationLabel at 0x28c21d03340>,\n",
       " 9: <functions.label.SegmentationLabel at 0x28c21d02e30>,\n",
       " 10: <functions.label.SegmentationLabel at 0x28c21d02920>,\n",
       " 11: <functions.label.SegmentationLabel at 0x28c21cfe230>,\n",
       " 12: <functions.label.SegmentationLabel at 0x28c21cfe740>,\n",
       " 13: <functions.label.SegmentationLabel at 0x28c21cfec50>,\n",
       " 14: <functions.label.SegmentationLabel at 0x28c21cff160>,\n",
       " 15: <functions.label.SegmentationLabel at 0x28c21cff6d0>,\n",
       " 16: <functions.label.SegmentationLabel at 0x28c21cffbe0>,\n",
       " 17: <functions.label.SegmentationLabel at 0x28c21cfddb0>,\n",
       " 18: <functions.label.SegmentationLabel at 0x28c21cfd8a0>,\n",
       " 19: <functions.label.SegmentationLabel at 0x28c21cfd390>,\n",
       " 20: <functions.label.SegmentationLabel at 0x28c21cfce80>,\n",
       " 21: <functions.label.SegmentationLabel at 0x28c21cfc970>,\n",
       " 22: <functions.label.SegmentationLabel at 0x28c21cfc460>,\n",
       " 23: <functions.label.SegmentationLabel at 0x28c21cf0160>,\n",
       " 24: <functions.label.SegmentationLabel at 0x28c21cf0670>,\n",
       " 25: <functions.label.SegmentationLabel at 0x28c21cf0b80>,\n",
       " 26: <functions.label.SegmentationLabel at 0x28c21cf1090>,\n",
       " 27: <functions.label.SegmentationLabel at 0x28c21cf15a0>,\n",
       " 28: <functions.label.SegmentationLabel at 0x28c21cf1b40>,\n",
       " 29: <functions.label.SegmentationLabel at 0x28c21cf3e20>,\n",
       " 30: <functions.label.SegmentationLabel at 0x28c21cf3910>,\n",
       " 31: <functions.label.SegmentationLabel at 0x28c21cf3400>,\n",
       " 32: <functions.label.SegmentationLabel at 0x28c21cf2ef0>,\n",
       " 33: <functions.label.SegmentationLabel at 0x28c21cf29e0>,\n",
       " 34: <functions.label.SegmentationLabel at 0x28c21cf24d0>,\n",
       " 35: <functions.label.SegmentationLabel at 0x28c21cf1fc0>,\n",
       " 36: <functions.label.SegmentationLabel at 0x28c21ce8df0>,\n",
       " 37: <functions.label.SegmentationLabel at 0x28c21ce9300>,\n",
       " 38: <functions.label.SegmentationLabel at 0x28c21ce9840>,\n",
       " 39: <functions.label.SegmentationLabel at 0x28c21cebdf0>,\n",
       " 40: <functions.label.SegmentationLabel at 0x28c21ceb8e0>,\n",
       " 41: <functions.label.SegmentationLabel at 0x28c21ceb3d0>,\n",
       " 42: <functions.label.SegmentationLabel at 0x28c21ceaec0>,\n",
       " 43: <functions.label.SegmentationLabel at 0x28c21cea9b0>,\n",
       " 44: <functions.label.SegmentationLabel at 0x28c21cea4a0>,\n",
       " 45: <functions.label.SegmentationLabel at 0x28c21ce9f90>,\n",
       " 46: <functions.label.SegmentationLabel at 0x28c21ce89d0>,\n",
       " 47: <functions.label.SegmentationLabel at 0x28c21ce84c0>,\n",
       " 48: <functions.label.SegmentationLabel at 0x28c21ccd210>,\n",
       " 49: <functions.label.SegmentationLabel at 0x28c21cce4a0>,\n",
       " 50: <functions.label.SegmentationLabel at 0x28c21ccf610>,\n",
       " 51: <functions.label.SegmentationLabel at 0x28c21ccfc70>,\n",
       " 52: <functions.label.SegmentationLabel at 0x28c21ccf1f0>,\n",
       " 53: <functions.label.SegmentationLabel at 0x28c21ccece0>,\n",
       " 54: <functions.label.SegmentationLabel at 0x28c21cce7d0>,\n",
       " 55: <functions.label.SegmentationLabel at 0x28c21ccdff0>,\n",
       " 56: <functions.label.SegmentationLabel at 0x28c21ccd900>,\n",
       " 57: <functions.label.SegmentationLabel at 0x28c21d2c1c0>,\n",
       " 58: <functions.label.SegmentationLabel at 0x28c21d2c6d0>,\n",
       " 59: <functions.label.SegmentationLabel at 0x28c21d2cbe0>,\n",
       " 60: <functions.label.SegmentationLabel at 0x28c21d2d0f0>,\n",
       " 61: <functions.label.SegmentationLabel at 0x28c21d2d600>,\n",
       " 62: <functions.label.SegmentationLabel at 0x28c21d2db10>,\n",
       " 63: <functions.label.SegmentationLabel at 0x28c21d2e020>,\n",
       " 64: <functions.label.SegmentationLabel at 0x28c21d2e530>,\n",
       " 65: <functions.label.SegmentationLabel at 0x28c21d2ea40>,\n",
       " 66: <functions.label.SegmentationLabel at 0x28c21d2ef50>,\n",
       " 67: <functions.label.SegmentationLabel at 0x28c21d2f460>,\n",
       " 68: <functions.label.SegmentationLabel at 0x28c21d2f970>,\n",
       " 69: <functions.label.SegmentationLabel at 0x28c21d2fe80>,\n",
       " 70: <functions.label.SegmentationLabel at 0x28c21d383d0>,\n",
       " 71: <functions.label.SegmentationLabel at 0x28c21d388e0>,\n",
       " 72: <functions.label.SegmentationLabel at 0x28c21d38df0>,\n",
       " 73: <functions.label.SegmentationLabel at 0x28c21d39300>,\n",
       " 74: <functions.label.SegmentationLabel at 0x28c21d39810>,\n",
       " 75: <functions.label.SegmentationLabel at 0x28c21d39d20>,\n",
       " 76: <functions.label.SegmentationLabel at 0x28c21d3a230>,\n",
       " 77: <functions.label.SegmentationLabel at 0x28c21d3a740>,\n",
       " 78: <functions.label.SegmentationLabel at 0x28c21d3ac50>,\n",
       " 79: <functions.label.SegmentationLabel at 0x28c21d3b160>,\n",
       " 80: <functions.label.SegmentationLabel at 0x28c21d3b670>,\n",
       " 81: <functions.label.SegmentationLabel at 0x28c21d3bb80>,\n",
       " 82: <functions.label.SegmentationLabel at 0x28c21d400d0>,\n",
       " 83: <functions.label.SegmentationLabel at 0x28c21d405e0>,\n",
       " 84: <functions.label.SegmentationLabel at 0x28c21d40af0>,\n",
       " 85: <functions.label.SegmentationLabel at 0x28c21d41000>,\n",
       " 86: <functions.label.SegmentationLabel at 0x28c21d41510>,\n",
       " 87: <functions.label.SegmentationLabel at 0x28c21d41a20>,\n",
       " 88: <functions.label.SegmentationLabel at 0x28c21d41f30>,\n",
       " 89: <functions.label.SegmentationLabel at 0x28c21d42440>,\n",
       " 90: <functions.label.SegmentationLabel at 0x28c21d42950>,\n",
       " 91: <functions.label.SegmentationLabel at 0x28c21d42e60>,\n",
       " 92: <functions.label.SegmentationLabel at 0x28c21d43370>,\n",
       " 93: <functions.label.SegmentationLabel at 0x28c21d43880>,\n",
       " 94: <functions.label.SegmentationLabel at 0x28c21d43d90>,\n",
       " 95: <functions.label.SegmentationLabel at 0x28c21d482e0>,\n",
       " 96: <functions.label.SegmentationLabel at 0x28c21d487f0>,\n",
       " 97: <functions.label.SegmentationLabel at 0x28c21d48d00>,\n",
       " 98: <functions.label.SegmentationLabel at 0x28c21d49210>,\n",
       " 99: <functions.label.SegmentationLabel at 0x28c21d49720>,\n",
       " 100: <functions.label.SegmentationLabel at 0x28c21d49c30>,\n",
       " 101: <functions.label.SegmentationLabel at 0x28c21d4a140>,\n",
       " 102: <functions.label.SegmentationLabel at 0x28c21d4a650>,\n",
       " 103: <functions.label.SegmentationLabel at 0x28c21d4ab60>,\n",
       " 104: <functions.label.SegmentationLabel at 0x28c21d4b070>,\n",
       " 105: <functions.label.SegmentationLabel at 0x28c21d4b580>,\n",
       " 106: <functions.label.SegmentationLabel at 0x28c21d4ba90>,\n",
       " 107: <functions.label.SegmentationLabel at 0x28c21d4bfa0>,\n",
       " 108: <functions.label.SegmentationLabel at 0x28c21d544f0>,\n",
       " 109: <functions.label.SegmentationLabel at 0x28c21d54a00>,\n",
       " 110: <functions.label.SegmentationLabel at 0x28c21d54f10>,\n",
       " 111: <functions.label.SegmentationLabel at 0x28c21d55420>,\n",
       " 112: <functions.label.SegmentationLabel at 0x28c21d55930>,\n",
       " 113: <functions.label.SegmentationLabel at 0x28c21d55e40>,\n",
       " 114: <functions.label.SegmentationLabel at 0x28c21d56350>,\n",
       " 115: <functions.label.SegmentationLabel at 0x28c21d56860>,\n",
       " 116: <functions.label.SegmentationLabel at 0x28c21d56d70>,\n",
       " 117: <functions.label.SegmentationLabel at 0x28c21d57280>,\n",
       " 264: <functions.label.SegmentationLabel at 0x28c21d57790>}"
      ]
     },
     "execution_count": 6,
     "metadata": {},
     "output_type": "execute_result"
    }
   ],
   "source": [
    "new_vol.segmentation_labels"
   ]
  },
  {
   "cell_type": "code",
   "execution_count": 7,
   "id": "7dc53cbb-4554-48ed-84be-6d969189dad0",
   "metadata": {},
   "outputs": [
    {
     "name": "stdout",
     "output_type": "stream",
     "text": [
      "id 0, label inf. ('air', 0.35)\n",
      "id 1, label inf. ('spleen', -9.05)\n",
      "id 2, label inf. ('kidney', -9.05)\n",
      "id 3, label inf. ('kidney', -9.05)\n",
      "id 4, label inf. ('organ', -9.05)\n",
      "id 5, label inf. ('liver', -9.05)\n",
      "id 6, label inf. ('organ', -9.05)\n",
      "id 7, label inf. ('organ', -9.05)\n",
      "id 8, label inf. ('gland', -9.05)\n",
      "id 9, label inf. ('gland', -9.05)\n",
      "id 10, label inf. ('lung', 0.2)\n",
      "id 11, label inf. ('lung', 0.2)\n",
      "id 12, label inf. ('lung', 0.2)\n",
      "id 13, label inf. ('lung', 0.2)\n",
      "id 14, label inf. ('lung', 0.2)\n",
      "id 15, label inf. ('esophagus', -9.05)\n",
      "id 16, label inf. ('trachea', 0.2)\n",
      "id 17, label inf. ('gland', -9.05)\n",
      "id 18, label inf. ('organ', -9.05)\n",
      "id 19, label inf. ('organ', -9.05)\n",
      "id 20, label inf. ('organ', -9.05)\n",
      "id 21, label inf. ('organ', -9.05)\n",
      "id 22, label inf. ('organ', -9.05)\n",
      "id 23, label inf. ('kidney', -9.05)\n",
      "id 24, label inf. ('kidney', -9.05)\n",
      "id 25, label inf. ('bone', -9)\n",
      "id 26, label inf. ('bone', -9)\n",
      "id 27, label inf. ('bone', -9)\n",
      "id 28, label inf. ('bone', -9)\n",
      "id 29, label inf. ('bone', -9)\n",
      "id 30, label inf. ('bone', -9)\n",
      "id 31, label inf. ('bone', -9)\n",
      "id 32, label inf. ('bone', -9)\n",
      "id 33, label inf. ('bone', -9)\n",
      "id 34, label inf. ('bone', -9)\n",
      "id 35, label inf. ('bone', -9)\n",
      "id 36, label inf. ('bone', -9)\n",
      "id 37, label inf. ('bone', -9)\n",
      "id 38, label inf. ('bone', -9)\n",
      "id 39, label inf. ('bone', -9)\n",
      "id 40, label inf. ('bone', -9)\n",
      "id 41, label inf. ('bone', -9)\n",
      "id 42, label inf. ('bone', -9)\n",
      "id 43, label inf. ('bone', -9)\n",
      "id 44, label inf. ('bone', -9)\n",
      "id 45, label inf. ('bone', -9)\n",
      "id 46, label inf. ('bone', -9)\n",
      "id 47, label inf. ('bone', -9)\n",
      "id 48, label inf. ('bone', -9)\n",
      "id 49, label inf. ('bone', -9)\n",
      "id 50, label inf. ('bone', -9)\n",
      "id 51, label inf. ('heart', -9.04)\n",
      "id 52, label inf. ('extra', -9.04)\n",
      "id 53, label inf. ('extra', -9.04)\n",
      "id 54, label inf. ('extra', -9.04)\n",
      "id 55, label inf. ('extra', -9.04)\n",
      "id 56, label inf. ('extra', -9.04)\n",
      "id 57, label inf. ('extra', -9.04)\n",
      "id 58, label inf. ('extra', -9.04)\n",
      "id 59, label inf. ('extra', -9.04)\n",
      "id 60, label inf. ('extra', -9.04)\n",
      "id 61, label inf. ('extra', -9.04)\n",
      "id 62, label inf. ('extra', -9.04)\n",
      "id 63, label inf. ('extra', -9.04)\n",
      "id 64, label inf. ('extra', -9.04)\n",
      "id 65, label inf. ('extra', -9.04)\n",
      "id 66, label inf. ('extra', -9.04)\n",
      "id 67, label inf. ('extra', -9.04)\n",
      "id 68, label inf. ('extra', -9.04)\n",
      "id 69, label inf. ('bone', -9)\n",
      "id 70, label inf. ('bone', -9)\n",
      "id 71, label inf. ('bone', -9)\n",
      "id 72, label inf. ('bone', -9)\n",
      "id 73, label inf. ('bone', -9)\n",
      "id 74, label inf. ('bone', -9)\n",
      "id 75, label inf. ('bone', -9)\n",
      "id 76, label inf. ('bone', -9)\n",
      "id 77, label inf. ('bone', -9)\n",
      "id 78, label inf. ('bone', -9)\n",
      "id 79, label inf. ('SpinalCanal', -9.055)\n",
      "id 80, label inf. ('extra', -9.04)\n",
      "id 81, label inf. ('extra', -9.04)\n",
      "id 82, label inf. ('extra', -9.04)\n",
      "id 83, label inf. ('extra', -9.04)\n",
      "id 84, label inf. ('extra', -9.04)\n",
      "id 85, label inf. ('extra', -9.04)\n",
      "id 86, label inf. ('extra', -9.04)\n",
      "id 87, label inf. ('extra', -9.04)\n",
      "id 88, label inf. ('extra', -9.04)\n",
      "id 89, label inf. ('extra', -9.04)\n",
      "id 90, label inf. ('brain', -9.04)\n",
      "id 91, label inf. ('bone', -9)\n",
      "id 92, label inf. ('bone', -9)\n",
      "id 93, label inf. ('bone', -9)\n",
      "id 94, label inf. ('bone', -9)\n",
      "id 95, label inf. ('bone', -9)\n",
      "id 96, label inf. ('bone', -9)\n",
      "id 97, label inf. ('bone', -9)\n",
      "id 98, label inf. ('bone', -9)\n",
      "id 99, label inf. ('bone', -9)\n",
      "id 100, label inf. ('bone', -9)\n",
      "id 101, label inf. ('bone', -9)\n",
      "id 102, label inf. ('bone', -9)\n",
      "id 103, label inf. ('bone', -9)\n",
      "id 104, label inf. ('bone', -9)\n",
      "id 105, label inf. ('bone', -9)\n",
      "id 106, label inf. ('bone', -9)\n",
      "id 107, label inf. ('bone', -9)\n",
      "id 108, label inf. ('bone', -9)\n",
      "id 109, label inf. ('bone', -9)\n",
      "id 110, label inf. ('bone', -9)\n",
      "id 111, label inf. ('bone', -9)\n",
      "id 112, label inf. ('bone', -9)\n",
      "id 113, label inf. ('bone', -9)\n",
      "id 114, label inf. ('bone', -9)\n",
      "id 115, label inf. ('bone', -9)\n",
      "id 116, label inf. ('bone', -9)\n",
      "id 117, label inf. ('bone', -9)\n",
      "id 264, label inf. ('fat', -8.92)\n"
     ]
    }
   ],
   "source": [
    "for key,value in new_vol.look_up.items():\n",
    "            # Key is the number of ID and value is (name, sus)\n",
    "    \n",
    "    print(f\"id {key}, label inf. {value}\")"
   ]
  },
  {
   "cell_type": "code",
   "execution_count": 8,
   "id": "c96efdc8-ef9c-49c2-976c-27abfa559470",
   "metadata": {},
   "outputs": [
    {
     "name": "stdout",
     "output_type": "stream",
     "text": [
      "id 0, label inf. ('air', 0.35)\n",
      "id 1, label inf. ('spleen', -9.05)\n",
      "id 2, label inf. ('kidney', -9.05)\n",
      "id 3, label inf. ('kidney', -9.05)\n",
      "id 4, label inf. ('organ', -9.05)\n",
      "id 5, label inf. ('liver', -9.05)\n",
      "id 6, label inf. ('organ', -9.05)\n",
      "id 7, label inf. ('organ', -9.05)\n",
      "id 8, label inf. ('gland', -9.05)\n",
      "id 9, label inf. ('gland', -9.05)\n",
      "id 10, label inf. ('lung', 0.2)\n",
      "id 11, label inf. ('lung', 0.2)\n",
      "id 12, label inf. ('lung', 0.2)\n",
      "id 13, label inf. ('lung', 0.2)\n",
      "id 14, label inf. ('lung', 0.2)\n",
      "id 15, label inf. ('esophagus', -9.05)\n",
      "id 16, label inf. ('trachea', 0.2)\n",
      "id 17, label inf. ('gland', -9.05)\n",
      "id 18, label inf. ('organ', -9.05)\n",
      "id 19, label inf. ('organ', -9.05)\n",
      "id 20, label inf. ('organ', -9.05)\n",
      "id 21, label inf. ('organ', -9.05)\n",
      "id 22, label inf. ('organ', -9.05)\n",
      "id 23, label inf. ('kidney', -9.05)\n",
      "id 24, label inf. ('kidney', -9.05)\n",
      "id 25, label inf. ('bone', -9)\n",
      "id 26, label inf. ('bone', -9)\n",
      "id 27, label inf. ('bone', -9)\n",
      "id 28, label inf. ('bone', -9)\n",
      "id 29, label inf. ('bone', -9)\n",
      "id 30, label inf. ('bone', -9)\n",
      "id 31, label inf. ('bone', -9)\n",
      "id 32, label inf. ('bone', -9)\n",
      "id 33, label inf. ('bone', -9)\n",
      "id 34, label inf. ('bone', -9)\n",
      "id 35, label inf. ('bone', -9)\n",
      "id 36, label inf. ('bone', -9)\n",
      "id 37, label inf. ('bone', -9)\n",
      "id 38, label inf. ('bone', -9)\n",
      "id 39, label inf. ('bone', -9)\n",
      "id 40, label inf. ('bone', -9)\n",
      "id 41, label inf. ('bone', -9)\n",
      "id 42, label inf. ('bone', -9)\n",
      "id 43, label inf. ('bone', -9)\n",
      "id 44, label inf. ('bone', -9)\n",
      "id 45, label inf. ('bone', -9)\n",
      "id 46, label inf. ('bone', -9)\n",
      "id 47, label inf. ('bone', -9)\n",
      "id 48, label inf. ('bone', -9)\n",
      "id 49, label inf. ('bone', -9)\n",
      "id 50, label inf. ('bone', -9)\n",
      "id 51, label inf. ('heart', -9.04)\n",
      "id 52, label inf. ('extra', -9.04)\n",
      "id 53, label inf. ('extra', -9.04)\n",
      "id 54, label inf. ('extra', -9.04)\n",
      "id 55, label inf. ('extra', -9.04)\n",
      "id 56, label inf. ('extra', -9.04)\n",
      "id 57, label inf. ('extra', -9.04)\n",
      "id 58, label inf. ('extra', -9.04)\n",
      "id 59, label inf. ('extra', -9.04)\n",
      "id 60, label inf. ('extra', -9.04)\n",
      "id 61, label inf. ('extra', -9.04)\n",
      "id 62, label inf. ('extra', -9.04)\n",
      "id 63, label inf. ('extra', -9.04)\n",
      "id 64, label inf. ('extra', -9.04)\n",
      "id 65, label inf. ('extra', -9.04)\n",
      "id 66, label inf. ('extra', -9.04)\n",
      "id 67, label inf. ('extra', -9.04)\n",
      "id 68, label inf. ('extra', -9.04)\n",
      "id 69, label inf. ('bone', -9)\n",
      "id 70, label inf. ('bone', -9)\n",
      "id 71, label inf. ('bone', -9)\n",
      "id 72, label inf. ('bone', -9)\n",
      "id 73, label inf. ('bone', -9)\n",
      "id 74, label inf. ('bone', -9)\n",
      "id 75, label inf. ('bone', -9)\n",
      "id 76, label inf. ('bone', -9)\n",
      "id 77, label inf. ('bone', -9)\n",
      "id 78, label inf. ('bone', -9)\n",
      "id 79, label inf. ('SpinalCanal', -9.055)\n",
      "id 80, label inf. ('extra', -9.04)\n",
      "id 81, label inf. ('extra', -9.04)\n",
      "id 82, label inf. ('extra', -9.04)\n",
      "id 83, label inf. ('extra', -9.04)\n",
      "id 84, label inf. ('extra', -9.04)\n",
      "id 85, label inf. ('extra', -9.04)\n",
      "id 86, label inf. ('extra', -9.04)\n",
      "id 87, label inf. ('extra', -9.04)\n",
      "id 88, label inf. ('extra', -9.04)\n",
      "id 89, label inf. ('extra', -9.04)\n",
      "id 90, label inf. ('brain', -9.04)\n",
      "id 91, label inf. ('bone', -9)\n",
      "id 92, label inf. ('bone', -9)\n",
      "id 93, label inf. ('bone', -9)\n",
      "id 94, label inf. ('bone', -9)\n",
      "id 95, label inf. ('bone', -9)\n",
      "id 96, label inf. ('bone', -9)\n",
      "id 97, label inf. ('bone', -9)\n",
      "id 98, label inf. ('bone', -9)\n",
      "id 99, label inf. ('bone', -9)\n",
      "id 100, label inf. ('bone', -9)\n",
      "id 101, label inf. ('bone', -9)\n",
      "id 102, label inf. ('bone', -9)\n",
      "id 103, label inf. ('bone', -9)\n",
      "id 104, label inf. ('bone', -9)\n",
      "id 105, label inf. ('bone', -9)\n",
      "id 106, label inf. ('bone', -9)\n",
      "id 107, label inf. ('bone', -9)\n",
      "id 108, label inf. ('bone', -9)\n",
      "id 109, label inf. ('bone', -9)\n",
      "id 110, label inf. ('bone', -9)\n",
      "id 111, label inf. ('bone', -9)\n",
      "id 112, label inf. ('bone', -9)\n",
      "id 113, label inf. ('bone', -9)\n",
      "id 114, label inf. ('bone', -9)\n",
      "id 115, label inf. ('bone', -9)\n",
      "id 116, label inf. ('bone', -9)\n",
      "id 117, label inf. ('bone', -9)\n",
      "id 264, label inf. ('fat', -8.92)\n"
     ]
    }
   ],
   "source": [
    "for key,value in new_vol.look_up.items():\n",
    "            # Key is the number of ID and value is (name, sus)\n",
    "    \n",
    "    print(f\"id {key}, label inf. {value}\")"
   ]
  },
  {
   "cell_type": "markdown",
   "id": "9c428799-831d-4d29-a8df-96af30d52ccc",
   "metadata": {},
   "source": [
    "This Labels not found are pre-defined labels that work with final_sc_seg.nii.gz </br>\n",
    "This file will be used later in the example of creating new labels :)"
   ]
  },
  {
   "cell_type": "code",
   "execution_count": 6,
   "id": "2f51deeb-cfe8-42b7-8b8a-9c652bc67a4c",
   "metadata": {},
   "outputs": [
    {
     "name": "stdout",
     "output_type": "stream",
     "text": [
      "CPU times: total: 3.55 s\n",
      "Wall time: 16.9 s\n"
     ]
    }
   ],
   "source": [
    "%%time\n",
    "# Now we have all the labels from the whole body stablished\n",
    "# By default T2star and Susceptibility values are complete \n",
    "# You can check the values used in the look-up table on the README file\n",
    "sus_dist = new_vol.create_sus_dist()\n",
    "# The output will be a Numpy array "
   ]
  },
  {
   "cell_type": "code",
   "execution_count": 7,
   "id": "2d89b6d7-4841-4b6b-8c33-62dd74eef5fc",
   "metadata": {},
   "outputs": [],
   "source": [
    "# A method is created to save the susceptibility from Numpy array to Nifti file\n",
    "new_vol.save_sus_dist_nii()\n",
    "# By default it will save it in the \"output\" folder"
   ]
  },
  {
   "cell_type": "markdown",
   "id": "17fd0318-c17e-42cc-9e4a-1b59d03f08e2",
   "metadata": {},
   "source": [
    "In a similar way we can create proton density and T2star volumes, acquire their numpy type data and then save them as nifti files"
   ]
  },
  {
   "cell_type": "code",
   "execution_count": 8,
   "id": "d51c3a9b-9031-49ec-9942-8989fc43c32f",
   "metadata": {},
   "outputs": [
    {
     "name": "stdout",
     "output_type": "stream",
     "text": [
      "CPU times: total: 5.05 s\n",
      "Wall time: 31.9 s\n"
     ]
    }
   ],
   "source": [
    "%%time\n",
    "pd_vol = new_vol.create_pd_vol()\n",
    "t2_star_vol = new_vol.create_t2_star_vol()"
   ]
  },
  {
   "cell_type": "code",
   "execution_count": 9,
   "id": "9f46511a-da48-4116-9aa3-b0f687337b5d",
   "metadata": {},
   "outputs": [],
   "source": [
    "new_vol.save_pd_dist()\n",
    "new_vol.save_t2star_dist()"
   ]
  },
  {
   "cell_type": "markdown",
   "id": "e347de87-a1b1-437f-9353-eee1cd0b2334",
   "metadata": {},
   "source": [
    "Now you will be able to open any of this 3 volumes on a viewer of choice. </br>\n",
    "As mentioned in the README file, if you use ITK snap you can open the segmentation labels."
   ]
  },
  {
   "cell_type": "markdown",
   "id": "f90d6849-55f1-4310-8a57-f6f267f2c2ca",
   "metadata": {},
   "source": [
    "# Label creation"
   ]
  },
  {
   "cell_type": "markdown",
   "id": "2b047e6d-c72c-43f3-9bc8-a055e00135f2",
   "metadata": {},
   "source": [
    "This section will guide you through how to create new labels.\n",
    "If you want, you can manually add a label in any desired location. For what you will only need a mask. </br>\n",
    "\n",
    "This examples addresses a, as of June 2024, current limitation from Total Seg CT, that is that we cannot differentiate CSF, WM or GM from the Spinal Cord. </br>\n",
    "\n",
    "Given that the labeling from anatomical image will have a specific value, when we add a new label we must add it with a value that is not included in the look up table. For example, for CT whole-body Total-Seg we must use a number higher than 117 to avoid conflicts. </br>\n",
    "\n",
    "\n",
    "Given the nature of my example I used Spinal Cord Toolbox (SCT): https://spinalcordtoolbox.com/index.html by De Leener B, Levy S, Dupont SM, Fonov VS, Stikov N, Louis Collins D, Callot V, Cohen-Adad J. SCT: Spinal Cord Toolbox, an open-source software for processing spinal cord MRI data. Neuroimage 2017. </br> \n",
    "In order to add them we need to first register the CT image to the PAM50 space. For this we can use the Spinal Cord segmentation and you can manually create landmarks of spine C2 and C5. With this files ready you can automatically register to PAM50 space and procede with creating new labels. </br> "
   ]
  },
  {
   "cell_type": "markdown",
   "id": "fa06aec3",
   "metadata": {},
   "source": [
    "**I.** The trick to add a new label to semgnetation is to first invert the values of the mask so that the ROI has value of 0 and everywhere else 1. </br> \n",
    "We then create a whole where we want the mask to be by multiplying it with our main labeled file."
   ]
  },
  {
   "cell_type": "code",
   "execution_count": null,
   "id": "88b36a16-916b-4026-be88-30d1ee203871",
   "metadata": {
    "editable": true,
    "slideshow": {
     "slide_type": ""
    },
    "tags": []
   },
   "outputs": [],
   "source": [
    "sct_maths -i new_label.nii.gz -o inv.nii.gz -sub 1\n",
    "sct_maths -i inv.nii.gz -o inv.nii.gz -mul -1\n",
    "sct_maths -i temp.nii.gz -o no_label.nii.gz -mul inv.nii.gz"
   ]
  },
  {
   "cell_type": "markdown",
   "id": "bdd83860-0029-408c-bdde-e06d0710ecc9",
   "metadata": {},
   "source": [
    "**II.** We need to make sure that the new label will have a non-conflictng value depending on the range of the look-up table. </br>\n",
    "*Note that we use temp as it is better to create a copy and edit the copy instead of the original.*"
   ]
  },
  {
   "cell_type": "code",
   "execution_count": 10,
   "id": "befb20bf-c09e-4015-9c97-accf104ba133",
   "metadata": {},
   "outputs": [],
   "source": [
    "#Now the body will have zeroes where the label is going to go\n",
    "# We need to set the value of the label to a number that \n",
    "# does not interfere with the look-up table\n",
    "# For this example, any number higher than 117 would work \n",
    "sct_maths -i reslice_label.nii.gz -o new_label.nii.gz -mul 16\n",
    "sct_maths -i new_label.nii.gz -o new_label.nii.gz -mul 16"
   ]
  },
  {
   "cell_type": "markdown",
   "id": "7800d4ca-014e-498e-bd95-8f70e78cfa3b",
   "metadata": {},
   "source": [
    "We choose to multiply twice because there is a maximum value of 40 to multiply in SCT_maths. We can then create a new nifti file with value of 256 for the mask and 0 elsewhere. </br>\n",
    "**III.** Then we just need to add the new label file to the file with a whole from the label we want to input."
   ]
  },
  {
   "cell_type": "code",
   "execution_count": null,
   "id": "370a25b6-fc7a-4505-8b6d-25efcf5e7691",
   "metadata": {},
   "outputs": [],
   "source": [
    "sct_maths -i no_label.nii.gz -o pro_labels.nii.gz -add new_label.nii.gz"
   ]
  },
  {
   "cell_type": "markdown",
   "id": "5709c6ce-4818-44b7-b7f6-1aef5caf011d",
   "metadata": {},
   "source": [
    "## Important notes\n",
    "- This procedure is not exclusive to SCT and can be perform with any tool of your preference!\n",
    "- Once a new label is created, if you want to add more labels you will have to work on top of any previously made new volume with added labels, so creating a temporal copy to test first is recommended. </br>\n",
    "- Also recommended, check the mask before multplication as I have deleted some files by multiplying inappropriate inversed masks. </br>\n",
    "- In the \"example\" folder you will find an example of a succesfull implementation of 2 new masks to the CT_wb data that adds labels 289 and 256 to the whole body dataset."
   ]
  }
 ],
 "metadata": {
  "kernelspec": {
   "display_name": "Python 3 (ipykernel)",
   "language": "python",
   "name": "python3"
  },
  "language_info": {
   "codemirror_mode": {
    "name": "ipython",
    "version": 3
   },
   "file_extension": ".py",
   "mimetype": "text/x-python",
   "name": "python",
   "nbconvert_exporter": "python",
   "pygments_lexer": "ipython3",
   "version": "3.10.11"
  }
 },
 "nbformat": 4,
 "nbformat_minor": 5
}
